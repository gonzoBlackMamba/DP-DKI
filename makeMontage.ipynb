{
 "cells": [
  {
   "cell_type": "markdown",
   "metadata": {},
   "source": [
    "## Make Montage of Axial slices for DP-DKI data"
   ]
  },
  {
   "cell_type": "code",
   "execution_count": null,
   "metadata": {},
   "outputs": [],
   "source": [
    "\n",
    "\n",
    "\n",
    "# Plot axial mosaic\n",
    "n_slice = corr.shape[2]\n",
    "step_size = n_slice // n_subplots\n",
    "plot_range = n_subplots * step_size\n",
    "start_stop = int((n_slice - plot_range) / 2)\n",
    "fig, axs = plt.subplots(fig_rows, fig_cols, figsize=[10, 10])\n",
    "for idx, img in enumerate(range(start_stop, plot_range, step_size)):\n",
    "    im = axs.flat[idx].imshow(np.fliplr(np.rot90(bg_img[:, :, img])), cmap='gray', alpha=1)\n",
    "    axs.flat[idx].axis('off')\n",
    "plt.subplots_adjust(wspace=0, hspace=0)\n",
    "cbar = plt.colorbar(im, ax=axs.ravel().tolist(), shrink=0.7, location = 'bottom', pad = 0.05)\n",
    "cbar.set_label(label='Correlation', color=cbar_color)\n",
    "cbar.ax.xaxis.set_tick_params(color=cbar_color)\n",
    "cbar.outline.set_edgecolor(cbar_color)\n",
    "plt.setp(plt.getp(cbar.ax.axes, 'xticklabels'), color=cbar_color)\n",
    "fig.patch.set_facecolor(bg_color)\n",
    "plt.show()\n",
    "pname = op.join(path_save, 'figures', '_'.join([mtype, ftype1, 'age']) + '_axial.png')\n",
    "fig.savefig(pname, dpi=600, bbox_inches = 'tight', pad_inches = 0) "
   ]
  }
 ],
 "metadata": {
  "kernelspec": {
   "display_name": "dmri12",
   "language": "python",
   "name": "python3"
  },
  "language_info": {
   "name": "python",
   "version": "3.12.2"
  }
 },
 "nbformat": 4,
 "nbformat_minor": 2
}
